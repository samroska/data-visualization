{
 "cells": [
  {
   "cell_type": "markdown",
   "metadata": {
    "deletable": false,
    "editable": false,
    "nbgrader": {
     "cell_type": "markdown",
     "checksum": "8dbb7b0711a5dee59fb9df955a5759cc",
     "grade": false,
     "grade_id": "cell-2d987f25a9bd6c4f",
     "locked": true,
     "schema_version": 3,
     "solution": false,
     "task": false
    }
   },
   "source": [
    "# Assignment 1 - Discrete Visualization"
   ]
  },
  {
   "cell_type": "markdown",
   "metadata": {
    "deletable": false,
    "editable": false,
    "nbgrader": {
     "cell_type": "markdown",
     "checksum": "8678cb84a74a787332ed6ad5bafa4fd0",
     "grade": false,
     "grade_id": "cell-654c885798bc9e7d",
     "locked": true,
     "schema_version": 3,
     "solution": false,
     "task": false
    }
   },
   "source": [
    "You are hired as a data scientist at International Trade Administration Industry and Analysis National Travel and Tourism Office, a national bureau dedicating to enhancing tourism in the United States, and get involved in the **International Visitation and Spending in the United States** project. Towards the end of a fiscal year, you received a request from the headquarter to obtain insights based on the given tourist visitation number for different states in the U.S. Specifically, you are asked to produce a Jupyter notebook with visualizations that can interact with the 3-year US international visitation data and engage a meeting with various stakeholders, including the headquarter of national travel and tourism in a high-profile video conference."
   ]
  },
  {
   "cell_type": "markdown",
   "metadata": {
    "deletable": false,
    "editable": false,
    "nbgrader": {
     "cell_type": "markdown",
     "checksum": "6ef1158018838ca8b5b728fce67e627e",
     "grade": false,
     "grade_id": "cell-2a2f6ea0db9beb38",
     "locked": true,
     "schema_version": 3,
     "solution": false,
     "task": false
    }
   },
   "source": [
    "## Question 0: Load Data (0% - But Required)\n",
    "\n",
    "Complete the function `load_data` below to load and organize the dataset that we will use in subsequent questions.  You should return a pandas Datafile with 5 columns titled “state”, “visitation_2016”, “visitation_2017”, “visitation_2018”, and “visitation_2019”.  The first column should contain a state and the subsequent columns the number of visitors in each corresponding year.\n",
    "\n",
    "The following instructions will help you do that correctly:\n",
    "\n",
    "* First import the `US_States_Visited_2017.xlsx`, `US_States_Visited_2018.xlsx` and `US_States_Visited_2019.xlsx` datasets. The three datasets are located at the assets folder. You may start with `read_excel()` function in pandas and remove the top and bottom rows. In each file, some column should contain the state.  Subsequent columns include the number of visitors in two different years.   Note that some data is duplicated, and the year of the datafile indicates when the file was made available (so 2016 data is in the 2017 datafile).\n",
    "\n",
    "* After that, pick out the relevant columns.  Note that you will need to multiply all the visitation numbers by 1,000. For example, in 2019, the recorded visitation for Alabama state was supposed to be 141,000 after multiplying 1,000. This must be applied for all 3 datasets.\n",
    "\n",
    "* Finally, you should merge the 3 datasets together, and rename the merged dataset called `merged_US_states_visitation`. The merged dataset should retain only the census states called `state`, 2016 visitation data called `visitation_2016`, 2017 visitation data called `visitation_2017`, 2018 visitation data called `visitation_2018`and 2019 visitation data called `visitation_2019`. To avoid confusion, when we join the datasets, keep every states that ever has international visitation data. Finally, order the state names alphabetically. \n",
    "\n"
   ]
  },
  {
   "cell_type": "code",
   "execution_count": null,
   "metadata": {},
   "outputs": [],
   "source": [
    "import numpy as np\n",
    "import matplotlib.pyplot as plt\n",
    "import pandas as pd\n",
    "import datetime\n",
    "\n",
    "def load_data() -> pd.DataFrame:\n",
    "    ''' This function should load the data as described in the assignment description\n",
    "    '''\n",
    "    return None\n",
    "\n",
    "# Tests\n",
    "# These tests do not ensure that your solution is correct, but are meant to help you find out where you might have gone wrong\n",
    "df = load_data()\n",
    "assert type(df)==pd.DataFrame, \"Your return value must be a pandas DataFrame\"\n",
    "assert df.index.size == 40, \"You should have 40 rows in your solution\"\n",
    "assert all(['visitation_' + str(year) in df.columns for year in [2016, 2017, 2018, 2019]]), \"Some of your column name are incorrect\"\n",
    "try:\n",
    "   assert df.iloc[0].name == 'Alabama', \"We expected to see Alabama as the first entry but it was not\"\n",
    "except:\n",
    "   assert df['state'].iloc[0] == 'Alabama', \"We expected to see Alabama as the first entry but it was not\"\n",
    "try:\n",
    "   assert df.loc['Iowa'].isnull().values.any() == True\n",
    "except:\n",
    "   assert df.iloc[12].isnull().values.any() == True\n",
    "try:\n",
    "   assert df.loc['Michigan'].isnull().values.any() == False\n",
    "except:\n",
    "   assert df.iloc[18].isnull().values.any() == False\n",
    "assert round(df['visitation_2016'].mean(),1) == 1489649.3\n",
    "assert round(df['visitation_2017'].mean(),1) == 1507142.9\n",
    "assert round(df['visitation_2018'].mean(),1) == 1398576.5\n",
    "assert round(df['visitation_2019'].mean(),1) == 1353375.0"
   ]
  },
  {
   "cell_type": "markdown",
   "metadata": {
    "deletable": false,
    "editable": false,
    "nbgrader": {
     "cell_type": "markdown",
     "checksum": "21019fdb4306652aa14cc5b6d5ca68fe",
     "grade": false,
     "grade_id": "cell-0076055649e29c9b",
     "locked": true,
     "schema_version": 3,
     "solution": false,
     "task": false
    }
   },
   "source": [
    "## Question 1: Bar Chart (60%)\n",
    "\n",
    "Make use of the merged data to complete the function `make_bar_chart` below. The elements requested by the management team for the first visualization are:\n",
    "* Make 4 plots, each of which is a bar chart representing the total visitation (as y-axis) of each state (shown in x-axis) in year 2016, 2017, 2018 and 2019. Each plot should use the data for each year.\n",
    "* Make the figures readable by adjusting the figure size, and specify the year of each plot using the title (e.g., A proper title of the plot using 2016 visitation data could be something like “Visitation data 2016”.)\n",
    "* For each plot, place two markers (style of your choice): one above the bar with the highest visitation and one above the bar with the lowest visitation."
   ]
  },
  {
   "cell_type": "code",
   "execution_count": null,
   "metadata": {},
   "outputs": [],
   "source": [
    "def make_bar_chart(data):\n",
    "    return None\n",
    "\n",
    "make_bar_chart(load_data())"
   ]
  },
  {
   "cell_type": "markdown",
   "metadata": {
    "deletable": false,
    "editable": false,
    "nbgrader": {
     "cell_type": "markdown",
     "checksum": "ee6487094030bbefc8f603f5b3caf323",
     "grade": false,
     "grade_id": "cell-c6335a26af49e0ba",
     "locked": true,
     "schema_version": 3,
     "solution": false,
     "task": false
    }
   },
   "source": [
    "## Question 2: Transformation (40%)\n",
    "After a week, the management team returned the report back to you can say \"Hey! The visualization looks highly skewed. We could hardly see what is happening in the last few states.\" \n",
    "\n",
    "To better visualize the visitation data to the stakeholders, your manager told you a new requirement: perform **an appropriate transformation** on the visitation number to make the differences more clear and:\n",
    "\n",
    "* Build the bar chart again with all visitation numbers transformed\n",
    "* (Optional) If you want, you can annotate inside the graphs about the trend you observe in the new subplots. (E.g. In what way does the transformation improve the visualizations?)\n",
    "\n",
    "Note: You may transform the data, or transform the chart representation of the data. Both are possible, it's up to you."
   ]
  },
  {
   "cell_type": "code",
   "execution_count": null,
   "metadata": {},
   "outputs": [],
   "source": [
    "def make_transformed_bar_chart(data):   \n",
    "    return None\n",
    "\n",
    "make_transformed_bar_chart(load_data())"
   ]
  }
 ],
 "metadata": {
  "etc_identifier": "e28671da-d402-4dc6-b801-7ab4b31018ea",
  "kernelspec": {
   "display_name": "Python 3 (ipykernel)",
   "language": "python",
   "name": "python3"
  },
  "language_info": {
   "codemirror_mode": {
    "name": "ipython",
    "version": 3
   },
   "file_extension": ".py",
   "mimetype": "text/x-python",
   "name": "python",
   "nbconvert_exporter": "python",
   "pygments_lexer": "ipython3",
   "version": "3.8.10"
  }
 },
 "nbformat": 4,
 "nbformat_minor": 4
}
