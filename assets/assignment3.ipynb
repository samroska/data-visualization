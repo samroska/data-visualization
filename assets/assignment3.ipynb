{
 "cells": [
  {
   "cell_type": "markdown",
   "metadata": {},
   "source": [
    "# Information Visualization I \n",
    "## School of Information, University of Michigan\n",
    "\n",
    "## Week 3: \n",
    "- Perception / Cognition\n",
    "\n",
    "## Assignment Overview\n",
    "### This assignment's objectives include:\n",
    "\n",
    "- Review, refect, and apply the concepts of the perception pipeline. Justify how different encodings impact the effectiveness of a visualization depending on the human perception process.\n",
    "\n",
    "![\"Drowing\"](assets/preattentive_resized.png)\n",
    "\n",
    "<p style=\"text-align: center;\"> Preattentive Processing </p>\n",
    "\n",
    "- Recreate visualizations and propose new and alternative visualizations using [Altair](https://altair-viz.github.io/) \n",
    "\n",
    "### The total score of this assignment will be 100 points consisting of:\n",
    "- Case study reflection: America’s Favorite ‘Star Wars’ Movies (And Least Favorite Characters) (30 points)\n",
    "- Altair programming exercise (70 points)\n",
    "\n",
    "### Resources:\n",
    "- Article by [FiveThirtyEight](https://fivethirtyeight.com) available  [online](https://fivethirtyeight.com/features/americas-favorite-star-wars-movies-and-least-favorite-characters/) (Hickey, 2014)  \n",
    "- Datasets from FiveThirtyEight, we have downloaded a subset of this data in the folder [./assets](assets)\n",
    "    - The original dataset can be found at [FiveThirtyEight Star Wars Survey](https://github.com/fivethirtyeight/data/tree/master/star-wars-survey)\n",
    "    \n",
    "\n",
    "### Important notes:\n",
    "1) There will be a couple of places where the numbers you get when you select rows may be a little different than 538, but the percents should still work (e.g., 828 instead of 834). You'll see this in our examples. If you can somehow get the data to match exactly, that's great too.\n",
    "\n",
    "2) Grading for this assignment is entirely done by a human grader. They will be running tests on the functions we ask you to create. This means there is no autograding (submitting through the autograder will result in an error). You are expected to test and validate your own code. \n",
    "\n",
    "3) Keep your notebooks clean and readable. If your code is highly messy or inefficient you will get a deduction.\n",
    "\n",
    "4) Follow the instructions for submission on Coursera. You will be providing us a generated link to a read-only version of your notebook and a PDF. When turning in your PDF, please use the File -> Print -> Save as PDF option ***from your browser***. Do ***not*** use the File->Download as->PDF option. Complete instructions for this are under Resources in the Coursera page for this class. If you're having trouble with printing, take a look at [this video](https://youtu.be/PiO-K7AoWjk).\n",
    "\n"
   ]
  },
  {
   "cell_type": "markdown",
   "metadata": {},
   "source": [
    "## Part 1. Perception and Cognition (30 points)\n",
    "Read the article [\"America’s Favorite ‘Star Wars’ Movies (And Least Favorite Characters),\"](https://fivethirtyeight.com/features/americas-favorite-star-wars-movies-and-least-favorite-characters/) and answer the following questions:\n"
   ]
  },
  {
   "cell_type": "markdown",
   "metadata": {},
   "source": [
    "### 1.1 List the different data types in the following visualizations and their encodings (10 points)\n",
    "Look at the following visualizations. For each, list the variable, their type, and the encoding used. \n",
    "\n",
    "![\"Drowing\"](assets/how_rate_resized.png)\n",
    "![\"Drowing\"](assets/have_seen_resized.png)\n",
    "\n",
    "Use the following template for each variable (indicate which vis each came from):\n",
    "* variable name, variable type (e.g., ordinal, nominal, etc.), variable encoding (e.g., color, x-position, etc.)"
   ]
  },
  {
   "cell_type": "markdown",
   "metadata": {},
   "source": [
    "_1.1 Answer_"
   ]
  },
  {
   "cell_type": "markdown",
   "metadata": {},
   "source": [
    "### 1.2 Propose an alternative encoding for the following visualization. Compare the visualizations based on perception. (10 points)\n",
    "Either hand-draw or use an application to create a sketched solution. Upload an image and describe the differences between your solution and the FiveThirtyEight image in terms of perception (specifically for the task of comparing one movie to another).\n",
    "![\"Drowing\"](assets/have_seen_resized.png)"
   ]
  },
  {
   "cell_type": "markdown",
   "metadata": {},
   "source": [
    "_1.2 Answer_"
   ]
  },
  {
   "cell_type": "markdown",
   "metadata": {},
   "source": [
    "### 1.3 Propose an alternative encoding for the following visualization. Compare the visualizations based on perception. (10 points)\n",
    "Again, either-hand draw or use an application to create a sketched solution. Upload an image and describe the differences between your solution and the FiveThirtyEight image in terms of perception (specifically for the task of comparing one movie to another).\n",
    "![\"Drowing\"](assets/how_rate_resized.png)"
   ]
  },
  {
   "cell_type": "markdown",
   "metadata": {},
   "source": [
    "_1.3 Answer_"
   ]
  },
  {
   "cell_type": "markdown",
   "metadata": {},
   "source": [
    "## Part 2. Altair programming exercise (70 points)\n",
    "We have provided you with some code and parts of the article [America’s Favorite ‘Star Wars’ Movies (And Least Favorite Characters)](https://fivethirtyeight.com/features/americas-favorite-star-wars-movies-and-least-favorite-characters/). This article is based on the dataset:\n",
    "\n",
    "1. [StarWars](data/StarWars.csv) Created by FiveThirtyEight based on a survey ran through SurveyMonkey Audience, surveying 1,186 respondents from June 3 to 6 2014. Available [online] (https://github.com/fivethirtyeight/data/tree/master/star-wars-survey)\n",
    "\n",
    "To earn points for this assignment, you must:\n",
    "\n",
    "- Recreate the visualizations in the article (replace the images in the article with a code cell that creates a visualization). We provide one example. Each visualization is worth 10 points (40 points/ 10 each x 4 total ).\n",
    "\n",
    "    - _Partial credit can be granted for each visualization (up to 5 points) if you provide the grammar of graphics description of the visualization without a functional Altair implementation_\n",
    "\n",
    "\n",
    "- Propose one alternative visualization for one of the article visualizations. Add a short paragraph describing why your visualization is more *effective* based on principles of perception/cognition. (15 points/ 10 points plot + 5 justification)\n",
    "\n",
    "\n",
    "- Propose a new visualization to complement a part of the article. Add a short paragraph justifying your decisions in terms of Perception/Cognition processes.  (15 points/ 10 points plot + 5 justification)\n"
   ]
  },
  {
   "cell_type": "code",
   "execution_count": null,
   "metadata": {},
   "outputs": [],
   "source": [
    "import pandas as pd\n",
    "import altair as alt\n",
    "import numpy as np\n",
    "import math"
   ]
  },
  {
   "cell_type": "code",
   "execution_count": null,
   "metadata": {},
   "outputs": [],
   "source": [
    "# enable correct rendering\n",
    "alt.renderers.enable('default')"
   ]
  },
  {
   "cell_type": "code",
   "execution_count": null,
   "metadata": {},
   "outputs": [],
   "source": [
    "# uses intermediate json files to speed things up\n",
    "alt.data_transformers.enable('json')"
   ]
  },
  {
   "cell_type": "code",
   "execution_count": null,
   "metadata": {},
   "outputs": [],
   "source": [
    "def load_starwars_data(filename='assets/StarWars.csv'):\n",
    "    sw = pd.read_csv(filename, encoding='latin1')\n",
    "\n",
    "    # Some format is needed for the survey dataframe, we provide the formatted dataset in a dataframe \n",
    "    sw = sw.rename(columns={'Have you seen any of the 6 films in the Star Wars franchise?':'seen_any_movie',\n",
    "                            'Do you consider yourself to be a fan of the Star Wars film franchise?': 'fan',\n",
    "                            'Which of the following Star Wars films have you seen? Please select all that apply.' : 'seen_EI',\n",
    "                            'Unnamed: 4' : 'seen_EII',\n",
    "                            'Unnamed: 5' : 'seen_EIII',\n",
    "                            'Unnamed: 6' : 'seen_EIV',\n",
    "                            'Unnamed: 7' : 'seen_EV',\n",
    "                            'Unnamed: 8' : 'seen_EVI',\n",
    "                            'Please rank the Star Wars films in order of preference with 1 being your favorite film in the franchise and 6 being your least favorite film.' : 'rank_EI',\n",
    "                            'Unnamed: 10' : 'rank_EII',\n",
    "                            'Unnamed: 11' : 'rank_EIII',\n",
    "                            'Unnamed: 12' : 'rank_EIV',\n",
    "                            'Unnamed: 13' : 'rank_EV',\n",
    "                            'Unnamed: 14' : 'rank_EVI',\n",
    "                            'Please state whether you view the following characters favorably, unfavorably, or are unfamiliar with him/her.' : 'Han Solo',\n",
    "                            'Unnamed: 16' : 'Luke Skywalker',\n",
    "                            'Unnamed: 17' : 'Princess Leia Organa',\n",
    "                            'Unnamed: 18' : 'Anakin Skywalker',\n",
    "                            'Unnamed: 19' : 'Obi Wan Kenobi',\n",
    "                            'Unnamed: 20' : 'Emperor Palpatine',\n",
    "                            'Unnamed: 21' : 'Darth Vader',\n",
    "                            'Unnamed: 22' : 'Lando Calrissian',\n",
    "                            'Unnamed: 23' : 'Boba Fett',\n",
    "                            'Unnamed: 24' : 'C-3P0',\n",
    "                            'Unnamed: 25' : 'R2 D2',\n",
    "                            'Unnamed: 26' : 'Jar Jar Binks',\n",
    "                            'Unnamed: 27' : 'Padme Amidala',\n",
    "                            'Unnamed: 28' : 'Yoda',\n",
    "                           })\n",
    "    sw = sw.drop([0])\n",
    "    return(sw)\n",
    "\n",
    "sw = load_starwars_data()"
   ]
  },
  {
   "cell_type": "code",
   "execution_count": null,
   "metadata": {},
   "outputs": [],
   "source": [
    "# take a peak to look at the data\n",
    "sw.sample(5)"
   ]
  },
  {
   "cell_type": "markdown",
   "metadata": {},
   "source": [
    "# America’s Favorite ‘Star Wars’ Movies (And Least Favorite Characters)"
   ]
  },
  {
   "cell_type": "markdown",
   "metadata": {},
   "source": [
    "_Original article available at [FiveThirtyEight](https://fivethirtyeight.com/features/americas-favorite-star-wars-movies-and-least-favorite-characters/)_\n",
    "\n",
    "By [Walt Hickey](https://fivethirtyeight.com/contributors/walt-hickey/)\n",
    "\n",
    "Filed under [Movies](https://fivethirtyeight.com/tag/movies/)\n",
    "\n",
    "Get the data on [GitHub](https://github.com/fivethirtyeight/data/tree/master/star-wars-survey)"
   ]
  },
  {
   "cell_type": "markdown",
   "metadata": {},
   "source": [
    "This week, I caught a sneak peek [of the X-Wing fighter](http://www.wired.com/2014/07/star-wars-episode-vii-x-wing/) from the new “Star Wars” films in production. The forthcoming movies — and the middling response to the most recent trilogy — provide a perfect excuse to examine some questions I’ve long wanted answers to: How many people are “Star Wars” fans? Does the rest of America realize that “The Empire Strikes Back” is clearly the best of the bunch? Which characters are most well-liked and most hated? And who shot first, Han Solo or Greedo?\n",
    "\n",
    "We ran a poll through [SurveyMonkey Audience](https://www.surveymonkey.com/mp/audience/), surveying 1,186 respondents from June 3 to 6 (the [data](https://github.com/fivethirtyeight/data/tree/master/star-wars-survey) is available [on GitHub](https://github.com/fivethirtyeight/data)). Seventy-nine percent of those respondents said they had watched at least one of the “Star Wars” films. This question, incidentally, had a substantial difference by gender: 85 percent of men have seen at least one “Star Wars” film compared to 72 percent of women. Of people who have seen a film, men were also more likely to consider themselves a fan of the franchise: 72 percent of men compared to 60 percent of women.\n",
    "\n",
    "We then asked respondents which of the films they had seen. With 835 people responding, here’s the probability that someone has seen a given “Star Wars” film given that they have seen any Star Wars film:"
   ]
  },
  {
   "cell_type": "markdown",
   "metadata": {},
   "source": [
    "![\"Sol1\"](assets/have_seen_resized.png)"
   ]
  },
  {
   "cell_type": "code",
   "execution_count": null,
   "metadata": {},
   "outputs": [],
   "source": [
    "# We're going to fix the labels a bit so will create a mapping to the full names\n",
    "# and have the full sort order\n",
    "def gen_episode_names_df():\n",
    "    episodes = ['EI', 'EII', 'EIII', 'EIV', 'EV', 'EVI']\n",
    "    names = {\n",
    "        'EI' : 'The Phantom Menace', 'EII' : 'Attack of the Clones', 'EIII' : 'Revenge of the Sith', \n",
    "        'EIV': 'A New Hope', 'EV': 'The Empire Strikes Back', 'EVI' : 'The Return of the Jedi'\n",
    "    }\n",
    "\n",
    "    # we're also going to use this order to sort, so names_l will now have our sort order\n",
    "    return episodes, names, [names[ep] for ep in episodes]\n",
    "\n",
    "episodes, names_dict, names_list = gen_episode_names_df()"
   ]
  },
  {
   "cell_type": "code",
   "execution_count": null,
   "metadata": {},
   "outputs": [],
   "source": [
    "# let's inspect what we've generated. These will be useful to you below\n",
    "print(\"abbreviated list (sorted):\\n  \",episodes)\n",
    "print(\"\\nmapping between abberviated names and full titles:\\n  \",names_dict)\n",
    "print(\"\\nfull titles, sorted:\\n  \",names_list)\n"
   ]
  },
  {
   "cell_type": "code",
   "execution_count": null,
   "metadata": {},
   "outputs": [],
   "source": [
    "# let's do some data pre-processing... recall that sw (star wars) has everything\n",
    "\n",
    "def get_seen_at_least_one_df(indf, eps):\n",
    "    # input: indf the data file as formatted above\n",
    "    # input: eps a list of episodes (movies)\n",
    "\n",
    "    # returns a substet of the dataset\n",
    "    \n",
    "    # We want to only use those people who have seen at least one movie, let's get the people, toss NAs\n",
    "    # and get the total count\n",
    "\n",
    "    # find people who have at least on of the columns (seen_*) not NaN\n",
    "    salo = indf.dropna(subset=['seen_' + ep for ep in eps],how='all')\n",
    "    \n",
    "    return(salo)\n"
   ]
  },
  {
   "cell_type": "code",
   "execution_count": null,
   "metadata": {},
   "outputs": [],
   "source": [
    "seen_at_least_one = get_seen_at_least_one_df(sw, episodes)\n",
    "print(\"total who have seen at least one: \", len(seen_at_least_one),\"\\nSample:\")\n",
    "display(seen_at_least_one.sample(5))"
   ]
  },
  {
   "cell_type": "code",
   "execution_count": null,
   "metadata": {},
   "outputs": [],
   "source": [
    "# for each movie, we're going to calculate the percents and generate a new data frame\n",
    "\n",
    "def gen_seen_percent_df(inpf, names=names_dict, names_l=names_list):\n",
    "    # input: inpf - an input frame of the form output by get_seen_at_least_one_df()\n",
    "    # input: names - a dictionary of abbreviations to names\n",
    "    # input: names_l - a list of all the movies in series order\n",
    "    \n",
    "    total = len(inpf)\n",
    "    percs = []\n",
    "\n",
    "    # loop over each column and calculate the number of people who have seen the movie\n",
    "    # specifically, filter out the people who are *NaN* for a specific episode (e.g., ep_EII), count them\n",
    "    # and divide by the percent\n",
    "    for seen_ep in ['seen_' + ep for ep in episodes]:\n",
    "        perc = len(seen_at_least_one[~ pd.isna(seen_at_least_one[seen_ep])]) / total\n",
    "        percs.append(perc)\n",
    "\n",
    "    # at this point percs is holding our percentages\n",
    "\n",
    "    # now we're going use a trick to make tuples--pairing names with percents--using \"zip\" and then make a dataframe\n",
    "    tuples = list(zip([names[ep] for ep in episodes],percs))\n",
    "    seen_per_df = pd.DataFrame(tuples, columns = ['Name', 'Percentage'])\n",
    "    return(seen_per_df)"
   ]
  },
  {
   "cell_type": "code",
   "execution_count": null,
   "metadata": {},
   "outputs": [],
   "source": [
    "seen_per_df = gen_seen_percent_df(seen_at_least_one)"
   ]
  },
  {
   "cell_type": "code",
   "execution_count": null,
   "metadata": {},
   "outputs": [],
   "source": [
    "# let's see what's inside\n",
    "seen_per_df"
   ]
  },
  {
   "cell_type": "code",
   "execution_count": null,
   "metadata": {},
   "outputs": [],
   "source": [
    "def gen_percent_vis(indf, names_l=names_list):\n",
    "    # input: indf, the dataframe as seen_per_df\n",
    "    # input: names_l - a list of all the movies in series order\n",
    "    # output: simple altair bar chart\n",
    "    \n",
    "    # ok, time to make the chart... let's make a bar chart (use mark_bar)\n",
    "    bars = alt.Chart(indf).mark_bar(size=20).encode(\n",
    "        # encode x as the percent, and hide the axis\n",
    "        x=alt.X(\n",
    "            'Percentage',\n",
    "            axis=None),\n",
    "        y=alt.Y(\n",
    "            # encode y using the name, use the movie name to label the axis, sort using the names_l\n",
    "            'Name:N',\n",
    "             axis=alt.Axis(tickCount=5, title=''),\n",
    "             # we give the sorting order to avoid alphabetical order\n",
    "             sort=names_l\n",
    "        )\n",
    "    )\n",
    "\n",
    "    # at this point we don't really have a great plot (it's missing the annotations, titles, etc.)\n",
    "    return(bars)\n",
    "\n",
    "bars = gen_percent_vis(seen_per_df)"
   ]
  },
  {
   "cell_type": "code",
   "execution_count": null,
   "metadata": {},
   "outputs": [],
   "source": [
    "# display it\n",
    "bars"
   ]
  },
  {
   "cell_type": "code",
   "execution_count": null,
   "metadata": {},
   "outputs": [],
   "source": [
    "def augment_percent_vis(base):\n",
    "    # input: base (the base vis, i.e., bars as above)\n",
    "    # we're going to overlay the text with the percentages, so let's make another visualization\n",
    "    # that's just text labels\n",
    "\n",
    "\n",
    "    text = base.mark_text(\n",
    "        align='left',\n",
    "        baseline='middle',\n",
    "        dx=3  # Nudges text to right so it doesn't appear on top of the bar\n",
    "    ).encode(\n",
    "        # we'll use the percentage as the text\n",
    "        text=alt.Text('Percentage:Q',format='.0%')\n",
    "    )\n",
    "\n",
    "    # finally, we're going to combine the bars and the text and do some styling\n",
    "    seen_movies = (text + base).configure_mark(\n",
    "        # we don't love the blue\n",
    "        color='#008fd5'\n",
    "    ).configure_view(\n",
    "        # we don't want a stroke around the bars\n",
    "        strokeWidth=0\n",
    "    ).configure_scale(\n",
    "        # add some padding\n",
    "        bandPaddingInner=0.2\n",
    "    ).properties(\n",
    "        # set the dimensions of the visualization\n",
    "        width=500,\n",
    "        height=180\n",
    "    ).properties(\n",
    "        # add a title\n",
    "        title=\"Which 'Star Wars' Movies Have you Seen?\"\n",
    "    )\n",
    "\n",
    "    return(seen_movies)\n",
    "\n",
    "# note that we are NOT formatting this in the Five Thirty Eight Style yet... we'll leave that to you to figure out"
   ]
  },
  {
   "cell_type": "code",
   "execution_count": null,
   "metadata": {},
   "outputs": [],
   "source": [
    "# let's see it\n",
    "augment_percent_vis(bars)"
   ]
  },
  {
   "cell_type": "markdown",
   "metadata": {},
   "source": [
    "So we can see that “Star Wars: Episode V — The Empire Strikes Back” is the film seen by the most number of people, followed by “Star Wars: Episode VI — Return of the Jedi.” Appallingly, more people reported seeing “Star Wars: Episode I — The Phantom Menace” than the original “Star Wars” (renamed “Star Wars: Episode IV — A New Hope”).\n",
    "\n",
    "So, which movie is the best? We asked the subset of 471 respondents who indicated they have seen every “Star Wars” film to rank them from best to worst. From that question, we calculated the share of respondents who rated each film as their favorite."
   ]
  },
  {
   "cell_type": "markdown",
   "metadata": {},
   "source": [
    "![\"Sol1\"](assets/best_movie_article_resized.png)\n",
    "\n",
    "\n",
    "** Homework note: Click [here](assets/best_movie.png) to see a version of this plot generated in Altair."
   ]
  },
  {
   "cell_type": "markdown",
   "metadata": {},
   "source": [
    "### 2.1 What's the best 'Star Wars' movie? Recreate the above image using altair (10 POINTS)\n",
    "\n",
    "Recreate the image above using Altair. Match the \"538\" style as best you can (hint: look at the altair lab at the start of the semester). We expect you to *at least* match the [our version](assets/best_movie.png) of the chart that was created in Altair."
   ]
  },
  {
   "cell_type": "code",
   "execution_count": null,
   "metadata": {
    "deletable": false,
    "nbgrader": {
     "cell_type": "code",
     "checksum": "dbebac3aa5d584adf3834ac7e0df86f4",
     "grade": true,
     "grade_id": "cell-6cd3a3ade4768b2a",
     "locked": false,
     "points": 0,
     "schema_version": 3,
     "solution": true
    }
   },
   "outputs": [],
   "source": [
    "# Recreate this image using Altair\n",
    "# match the \"538 style\" as best you can (hint: look at the altair lab at the start of the semester)\n",
    "\n",
    "def gen_best_vis(inpf,eps, names=names_dict, names_l=names_list):\n",
    "    # input: inpf, the star wars dataset\n",
    "    # input: eps, the list of episodes\n",
    "    # input: names - a dictionary of abbreviations to names\n",
    "    # input: names_l - a list of all the movies in series order\n",
    "    # output: the Altair visualization as described above\n",
    "    # YOUR CODE HERE\n",
    "    raise NotImplementedError()"
   ]
  },
  {
   "cell_type": "code",
   "execution_count": null,
   "metadata": {},
   "outputs": [],
   "source": [
    "# test your code\n",
    "gen_best_vis(sw,episodes)"
   ]
  },
  {
   "cell_type": "markdown",
   "metadata": {},
   "source": [
    "## Make sure to *style* your visualization to match the original the best you can"
   ]
  },
  {
   "cell_type": "markdown",
   "metadata": {},
   "source": [
    "We can also drill down and find out, generally, how people rate the films. Overall, fans broke into two camps: those who preferred the original three movies and those who preferred the three prequels. People who said “The Empire Strikes Back” was their favorite were also likely to rate “A New Hope” and “Return of the Jedi” higher as well. Those who rated “The Phantom Menace” as the best film were more likely to rate prequels higher.\n",
    "\n",
    "This chart shows how often each film was rated in the top third (best or second-best), the middle third (third or fourth) or the bottom third (second-worst or worst). It’s a more nuanced take on the series:"
   ]
  },
  {
   "cell_type": "markdown",
   "metadata": {},
   "source": [
    "![\"Sol1\"](assets/how_rate_resized.png)\n",
    "\n",
    "** Homework note: Click [here](assets/people_rate.png) to see a version of this plot generated in Altair."
   ]
  },
  {
   "cell_type": "markdown",
   "metadata": {},
   "source": [
    "### 2.2 How people rate the 'Star Wars' movie? Recreate the above image using altair (10 POINTS)"
   ]
  },
  {
   "cell_type": "code",
   "execution_count": null,
   "metadata": {
    "deletable": false,
    "nbgrader": {
     "cell_type": "code",
     "checksum": "8aa11f4dfd9005d6c30986983a2fa9fb",
     "grade": true,
     "grade_id": "cell-52397c560884e386",
     "locked": false,
     "points": 0,
     "schema_version": 3,
     "solution": true
    }
   },
   "outputs": [],
   "source": [
    "# Recreate this image using altair here (10 POINTS)\n",
    "\n",
    "def gen_rate_vis(inpf,eps, names=names_dict, names_l=names_list):\n",
    "    # input: inpf, the star wars dataset\n",
    "    # input: eps, the list of episodes\n",
    "    # input: names - a dictionary of abbreviations to names\n",
    "    # input: names_l - a list of all the movies in series order\n",
    "    # output: the Altair visualization as described above\n",
    "    \n",
    "    # YOUR CODE HERE\n",
    "    raise NotImplementedError()"
   ]
  },
  {
   "cell_type": "code",
   "execution_count": null,
   "metadata": {},
   "outputs": [],
   "source": [
    "# let's check our solution\n",
    "gen_rate_vis(sw,episodes)"
   ]
  },
  {
   "cell_type": "markdown",
   "metadata": {},
   "source": [
    "Finally, we took a boilerplate format used by political favorability polls — “Please state whether you view the following characters favorably, unfavorably, or are unfamiliar with him/her” — and asked respondents to rate characters in the series."
   ]
  },
  {
   "cell_type": "markdown",
   "metadata": {},
   "source": [
    "![\"Sol1\"](assets/char_ranking_resized.png)\n",
    "\n",
    "\n",
    "** Homework note. Here's an example solution generated in Altair:\n",
    "![\"Sol1\"](assets/people_rate_s.png)\n"
   ]
  },
  {
   "cell_type": "markdown",
   "metadata": {},
   "source": [
    "### 2.3 Star Wars' Characters Favorability Ratings. Recreate the above image using altair (10 POINTS)"
   ]
  },
  {
   "cell_type": "code",
   "execution_count": null,
   "metadata": {
    "deletable": false,
    "nbgrader": {
     "cell_type": "code",
     "checksum": "04201121283c44428150486bbb7297fb",
     "grade": true,
     "grade_id": "cell-2414757f441f7ae3",
     "locked": false,
     "points": 0,
     "schema_version": 3,
     "solution": true
    }
   },
   "outputs": [],
   "source": [
    "# Recreate this image using altair here (10 POINTS)\n",
    "\n",
    "def gen_favor_vis(inpf):\n",
    "    # input: inpf, the star wars dataset\n",
    "    # output: the Altair visualization as described above\n",
    "    \n",
    "    # YOUR CODE HERE\n",
    "    raise NotImplementedError()"
   ]
  },
  {
   "cell_type": "code",
   "execution_count": null,
   "metadata": {},
   "outputs": [],
   "source": [
    "# let's test the solution\n",
    "gen_favor_vis(sw)"
   ]
  },
  {
   "cell_type": "markdown",
   "metadata": {},
   "source": [
    "You read that correctly. Jar Jar Binks has a lower favorability rating than the actual personification of evil in the galaxy.\n",
    "\n",
    "And for those of you who want to know the impact that [historical revisionism](http://en.wikipedia.org/wiki/Han_shot_first) can have on a society:\n",
    "\n",
    "![\"Sol1\"](assets/shot_first_article_resized.png)\n",
    "\n",
    "\n",
    "** Homework note: Click [here](assets/shot_first.png) to see a version of this plot generated in Altair. You may find that you don't get 834 rows (as 538 did) but the percents should still work."
   ]
  },
  {
   "cell_type": "markdown",
   "metadata": {},
   "source": [
    "### 2.4 Who shot first? Recreate the above image using altair (10 POINTS)"
   ]
  },
  {
   "cell_type": "code",
   "execution_count": null,
   "metadata": {
    "deletable": false,
    "nbgrader": {
     "cell_type": "code",
     "checksum": "75fc71f2350741420b087a11e193bd82",
     "grade": true,
     "grade_id": "cell-cfc5e3a9149d295e",
     "locked": false,
     "points": 0,
     "schema_version": 3,
     "solution": true
    }
   },
   "outputs": [],
   "source": [
    "# Recreate this image using altair here (10 POINTS)\n",
    "\n",
    "def gen_first_shot_vis(inpf):\n",
    "    # input: inpf, the star wars dataset\n",
    "    # output: the Altair visualization as described above\n",
    "    \n",
    "    # YOUR CODE HERE\n",
    "    raise NotImplementedError()"
   ]
  },
  {
   "cell_type": "code",
   "execution_count": null,
   "metadata": {},
   "outputs": [],
   "source": [
    "# test our solution\n",
    "gen_first_shot_vis(sw)"
   ]
  },
  {
   "cell_type": "markdown",
   "metadata": {},
   "source": [
    "### 2.5 Make your own (30 points total)\n",
    "\n",
    "For these, you **can** use your approach in question 1 (though it would be preferable if you do not). For question 1 we do not expect an implementation (and a hand-drawn sketch is fine). For this question, we'd like to see the actual code.\n",
    "\n",
    "### 2.5.1 Make your own (15 points/ 10 points plot + 5 justification)\n",
    "\n",
    "Propose and code an alternative visualization for one of the visualizations *already in the article*. Add a short paragraph describing why your visualization is more (or less -- you *can* go out of your way to make a bad vis) *effective* based on principles of perception/cognition. \n",
    "\n",
    "If you feel your visualization is worse, that's ok! Just tell us why."
   ]
  },
  {
   "cell_type": "code",
   "execution_count": null,
   "metadata": {},
   "outputs": [],
   "source": [
    "# add your code here"
   ]
  },
  {
   "cell_type": "markdown",
   "metadata": {},
   "source": [
    "*Provide your justification here*"
   ]
  },
  {
   "cell_type": "markdown",
   "metadata": {},
   "source": [
    "### 2.5.2 Make your own (15 points/ 10 points plot + 5 justification)\n",
    "Propose and code a *new visualization* to complement a part of the article. Add a short paragraph justifying your decisions in terms of Perception/Cognition processes.\n",
    "\n",
    "If you feel your visualization is bad, that's ok! Just tell us why."
   ]
  },
  {
   "cell_type": "code",
   "execution_count": null,
   "metadata": {},
   "outputs": [],
   "source": [
    "# add your code here"
   ]
  },
  {
   "cell_type": "markdown",
   "metadata": {},
   "source": [
    "*Provide your justification here*"
   ]
  }
 ],
 "metadata": {
  "coursera": {
   "schema_names": [
    "mads_information_visualization_i_v8_assignment3"
   ]
  },
  "kernelspec": {
   "display_name": "Python 3 (ipykernel)",
   "language": "python",
   "name": "python3"
  },
  "language_info": {
   "codemirror_mode": {
    "name": "ipython",
    "version": 3
   },
   "file_extension": ".py",
   "mimetype": "text/x-python",
   "name": "python",
   "nbconvert_exporter": "python",
   "pygments_lexer": "ipython3",
   "version": "3.8.10"
  },
  "toc": {
   "colors": {
    "hover_highlight": "#DAA520",
    "running_highlight": "#FF0000",
    "selected_highlight": "#FFD700"
   },
   "moveMenuLeft": true,
   "nav_menu": {
    "height": "282px",
    "width": "252px"
   },
   "navigate_menu": true,
   "number_sections": false,
   "sideBar": true,
   "threshold": 4,
   "toc_cell": false,
   "toc_section_display": "none",
   "toc_window_display": true,
   "widenNotebook": false
  }
 },
 "nbformat": 4,
 "nbformat_minor": 2
}
